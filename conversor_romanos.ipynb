{
 "cells": [
  {
   "cell_type": "code",
   "execution_count": null,
   "metadata": {},
   "outputs": [],
   "source": [
    "x = \"HOLA mi nombre es sebastian, ME gusta la música XI\"\n",
    "\n",
    "x = x.replace(\",\",\"\")\n",
    "\n",
    "y = x.split()\n",
    "\n",
    "lista = []\n",
    "\n",
    "lis = []\n",
    "\n",
    "print(y)\n",
    "\n",
    "for i in y:\n",
    "    palabras = i.isupper() \n",
    "    if palabras == True:\n",
    "        x = i \n",
    "        \n",
    "        lis.append(x)\n",
    "        \n",
    "    else:\n",
    "        y = i\n",
    "        \n",
    "        lista.append(y)\n",
    "        \n",
    "print(lis)\n",
    "print (lista)"
   ]
  }
 ],
 "metadata": {
  "language_info": {
   "name": "python"
  },
  "orig_nbformat": 4
 },
 "nbformat": 4,
 "nbformat_minor": 2
}
