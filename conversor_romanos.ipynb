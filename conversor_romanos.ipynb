{
 "cells": [
  {
   "cell_type": "code",
   "execution_count": 1,
   "metadata": {},
   "outputs": [
    {
     "name": "stdout",
     "output_type": "stream",
     "text": [
      "['HOLA', 'mi', 'nombre', 'es', 'sebastian', 'ME', 'gusta', 'la', 'música', 'XI']\n",
      "['HOLA', 'ME', 'XI']\n",
      "['mi', 'nombre', 'es', 'sebastian', 'gusta', 'la', 'música']\n"
     ]
    }
   ],
   "source": [
    "x = \"HOLA mi nombre es sebastian, ME gusta la música XI\"\n",
    "\n",
    "x = x.replace(\",\",\"\")\n",
    "\n",
    "y = x.split()\n",
    "\n",
    "lista = []\n",
    "\n",
    "lis = []\n",
    "\n",
    "print(y)\n",
    "\n",
    "for i in y:\n",
    "    palabras = i.isupper() \n",
    "    if palabras == True:\n",
    "        x = i \n",
    "        \n",
    "        lis.append(x)\n",
    "        \n",
    "    else:\n",
    "        y = i\n",
    "        \n",
    "        lista.append(y)\n",
    "        \n",
    "print(lis)\n",
    "print (lista)\n",
    "\n",
    "romanos = \"MDCXXIX\"\n",
    "valor = 0\n",
    "for letra in romanos:\n",
    "    if letra == \"I\":\n",
    "        valor += 1\n",
    "    elif letra == \"X\":\n",
    "        valor += 10\n",
    "    elif letra == \"L\":\n",
    "        valor += 50\n",
    "    elif letra == \"C\":\n",
    "        valor += 100\n",
    "    elif letra == \"D\":\n",
    "        valor += 500\n",
    "    elif letra == \"M\":\n",
    "        valor += 1000\n",
    "    \n",
    "print(valor)"
   ]
  }
 ],
 "metadata": {
  "kernelspec": {
   "display_name": "env",
   "language": "python",
   "name": "python3"
  },
  "language_info": {
   "codemirror_mode": {
    "name": "ipython",
    "version": 3
   },
   "file_extension": ".py",
   "mimetype": "text/x-python",
   "name": "python",
   "nbconvert_exporter": "python",
   "pygments_lexer": "ipython3",
   "version": "3.11.2"
  },
  "orig_nbformat": 4
 },
 "nbformat": 4,
 "nbformat_minor": 2
}
