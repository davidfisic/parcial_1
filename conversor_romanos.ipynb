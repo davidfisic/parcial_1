{
 "cells": [
  {
   "cell_type": "code",
   "execution_count": 1,
   "metadata": {},
   "outputs": [
    {
     "name": "stdout",
     "output_type": "stream",
     "text": [
      "['HOLA', 'mi', 'nombre', 'es', 'sebastian', 'ME', 'gusta', 'la', 'música', 'XI']\n",
      "['HOLA', 'ME', 'XI']\n",
      "['mi', 'nombre', 'es', 'sebastian', 'gusta', 'la', 'música']\n"
     ]
    }
   ],
   "source": [
    "letras_rom = ['I','V','X','L','C','D','M']\n",
    "\n",
    "\n",
    "class covertext:\n",
    "    def __init__(self,texto):\n",
    "        self.texto = texto \n",
    "        \n",
    "    def manipulacion_text(self):\n",
    "        texto = self.texto.replace(\",\",\"\")\n",
    "        texto = texto.replace(\".\",\"\")\n",
    "        texto = texto.replace(\";\",\"\")\n",
    "        texto = texto.replace(\":\",\"\")\n",
    "        texto = texto.split()\n",
    "        return(texto)\n",
    "    def convertidor_text(self):\n",
    "        texto_nuevo=[]\n",
    "        textos = self.manipulacion_text()\n",
    "        for palabra in textos:\n",
    "            for letra in palabra:\n",
    "                if letra in letras_rom:\n",
    "                    resultado = 0\n",
    "                    ultimo_valor = 0\n",
    "\n",
    "                    for letra in palabra[::-1]:\n",
    "                        if letra == 'M' and palabra.count('M') <= 3:\n",
    "                            valor = 1000\n",
    "                        elif letra == 'D' and palabra.count('D') <= 3:\n",
    "                            valor = 500\n",
    "                        elif letra == 'C' and palabra.count('C') <= 3:\n",
    "                            valor = 100\n",
    "                        elif letra == 'L' and palabra.count('L') <= 3:\n",
    "                            valor = 50\n",
    "                        elif letra == 'X' and palabra.count('X') <= 3:\n",
    "                            valor = 10\n",
    "                        elif letra == 'V' and palabra.count('V') <= 3:\n",
    "                            valor = 5\n",
    "                        elif letra == 'I' and palabra.count('I') <= 3:\n",
    "                            valor = 1\n",
    "                        if valor >= ultimo_valor:\n",
    "                            resultado += valor\n",
    "                        else:\n",
    "                            resultado -= valor\n",
    "                        ultimo_valor = valor\n",
    "                        \n",
    "                    texto_nuevo.append(str(resultado))    \n",
    "                    break    \n",
    "                else:\n",
    "                    texto_nuevo.append(palabra)\n",
    "                    break\n",
    "        return(texto_nuevo)\n",
    "\n",
    "texto = \"Este es, un ejemplo de texto. con números; romanos: como el MCXXIV y el XXVIII\"\n",
    "texto_clase_1 = covertext(texto)\n",
    "\n",
    "texto_lista = texto_clase_1.manipulacion_text()\n",
    "\n",
    "print(texto_lista)\n",
    "\n",
    "\n",
    "texto_convertido = texto_clase_1.convertidor_text()\n",
    "text_conv = \" \".join(texto_convertido)\n",
    "print(texto_convertido)\n",
    "print(text_conv)"
   ]
  }
 ],
 "metadata": {
  "kernelspec": {
   "display_name": "env",
   "language": "python",
   "name": "python3"
  },
  "language_info": {
   "codemirror_mode": {
    "name": "ipython",
    "version": 3
   },
   "file_extension": ".py",
   "mimetype": "text/x-python",
   "name": "python",
   "nbconvert_exporter": "python",
   "pygments_lexer": "ipython3",
   "version": "3.11.2"
  },
  "orig_nbformat": 4
 },
 "nbformat": 4,
 "nbformat_minor": 2
}
